{
  "nbformat": 4,
  "nbformat_minor": 0,
  "metadata": {
    "colab": {
      "provenance": [],
      "authorship_tag": "ABX9TyMfPEDPfyxb8mpzTsFZ+SHU",
      "include_colab_link": true
    },
    "kernelspec": {
      "name": "python3",
      "display_name": "Python 3"
    },
    "language_info": {
      "name": "python"
    }
  },
  "cells": [
    {
      "cell_type": "markdown",
      "metadata": {
        "id": "view-in-github",
        "colab_type": "text"
      },
      "source": [
        "<a href=\"https://colab.research.google.com/github/rajatgarg01/computer-healts/blob/main/Untitled2.ipynb\" target=\"_parent\"><img src=\"https://colab.research.google.com/assets/colab-badge.svg\" alt=\"Open In Colab\"/></a>"
      ]
    },
    {
      "cell_type": "code",
      "execution_count": 9,
      "metadata": {
        "id": "TJSw_BMscosX"
      },
      "outputs": [],
      "source": [
        "import math"
      ]
    },
    {
      "cell_type": "markdown",
      "source": [
        "Write a program to find the euclidean distance between two coordinates."
      ],
      "metadata": {
        "id": "eY0PQyiJc0Ad"
      }
    },
    {
      "cell_type": "code",
      "source": [
        "def euclidean_distance(x1,y1,x2,y2):\n",
        "  return math.sqrt((x1-x2)**2+(y1-y2)**2)\n",
        "\n"
      ],
      "metadata": {
        "id": "352sJBwKc6BP"
      },
      "execution_count": 10,
      "outputs": []
    },
    {
      "cell_type": "code",
      "source": [
        "x1=int(input(\"enter X1:\"))\n",
        "y1=int(input(\"enter y1:\"))\n",
        "x2=int(input(\"enter X2:\"))\n",
        "y2=int(input(\"enter y1:\"))"
      ],
      "metadata": {
        "colab": {
          "base_uri": "https://localhost:8080/"
        },
        "id": "9sBseTgXdgMp",
        "outputId": "62e7d32a-473f-4b6f-9216-77b4fe8bd284"
      },
      "execution_count": 11,
      "outputs": [
        {
          "name": "stdout",
          "output_type": "stream",
          "text": [
            "enter X1:1\n",
            "enter y1:2\n",
            "enter X2:3\n",
            "enter y1:4\n"
          ]
        }
      ]
    },
    {
      "cell_type": "code",
      "source": [
        "print(\"distance=\",euclidean_distance(x1,y1,x2,y2))"
      ],
      "metadata": {
        "colab": {
          "base_uri": "https://localhost:8080/"
        },
        "id": "t_ZvZTyed_l8",
        "outputId": "b55b7de0-893d-440c-f5d6-9aa43e84e70b"
      },
      "execution_count": 12,
      "outputs": [
        {
          "output_type": "stream",
          "name": "stdout",
          "text": [
            "distance= 2.8284271247461903\n"
          ]
        }
      ]
    },
    {
      "cell_type": "code",
      "source": [],
      "metadata": {
        "id": "GOmOmKa0eR9A"
      },
      "execution_count": null,
      "outputs": []
    }
  ]
}